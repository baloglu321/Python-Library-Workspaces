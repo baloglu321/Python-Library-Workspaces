{
 "cells": [
  {
   "cell_type": "code",
   "execution_count": 1,
   "metadata": {},
   "outputs": [],
   "source": [
    "import numpy as np\n",
    "import pandas as pd"
   ]
  },
  {
   "cell_type": "code",
   "execution_count": 36,
   "metadata": {},
   "outputs": [],
   "source": [
    "liste=np.random.randint(0,60,30)"
   ]
  },
  {
   "cell_type": "code",
   "execution_count": 37,
   "metadata": {},
   "outputs": [
    {
     "data": {
      "text/plain": [
       "array([56, 29, 26, 31, 10, 11, 45, 47, 40, 22, 40, 59, 48, 36, 10, 14, 52,\n",
       "       44, 26, 28, 14, 20, 25, 36,  1, 12, 56,  1, 13, 49])"
      ]
     },
     "execution_count": 37,
     "metadata": {},
     "output_type": "execute_result"
    }
   ],
   "source": [
    "liste"
   ]
  },
  {
   "cell_type": "code",
   "execution_count": 38,
   "metadata": {},
   "outputs": [],
   "source": [
    "liste=liste.reshape(5,6)"
   ]
  },
  {
   "cell_type": "code",
   "execution_count": 39,
   "metadata": {},
   "outputs": [
    {
     "data": {
      "text/plain": [
       "array([[56, 29, 26, 31, 10, 11],\n",
       "       [45, 47, 40, 22, 40, 59],\n",
       "       [48, 36, 10, 14, 52, 44],\n",
       "       [26, 28, 14, 20, 25, 36],\n",
       "       [ 1, 12, 56,  1, 13, 49]])"
      ]
     },
     "execution_count": 39,
     "metadata": {},
     "output_type": "execute_result"
    }
   ],
   "source": [
    "liste"
   ]
  },
  {
   "cell_type": "code",
   "execution_count": 40,
   "metadata": {},
   "outputs": [],
   "source": [
    "matris=pd.DataFrame(liste,[\"ocak\",\"şubat\",\"mart\",\"nisan\",\"mayıs\"],[\"yem\",\"süt\",\"elektrik\",\"su\",\"at\",\"avrat\"])"
   ]
  },
  {
   "cell_type": "code",
   "execution_count": 41,
   "metadata": {},
   "outputs": [
    {
     "data": {
      "text/html": [
       "<div>\n",
       "<style scoped>\n",
       "    .dataframe tbody tr th:only-of-type {\n",
       "        vertical-align: middle;\n",
       "    }\n",
       "\n",
       "    .dataframe tbody tr th {\n",
       "        vertical-align: top;\n",
       "    }\n",
       "\n",
       "    .dataframe thead th {\n",
       "        text-align: right;\n",
       "    }\n",
       "</style>\n",
       "<table border=\"1\" class=\"dataframe\">\n",
       "  <thead>\n",
       "    <tr style=\"text-align: right;\">\n",
       "      <th></th>\n",
       "      <th>yem</th>\n",
       "      <th>süt</th>\n",
       "      <th>elektrik</th>\n",
       "      <th>su</th>\n",
       "      <th>at</th>\n",
       "      <th>avrat</th>\n",
       "    </tr>\n",
       "  </thead>\n",
       "  <tbody>\n",
       "    <tr>\n",
       "      <th>ocak</th>\n",
       "      <td>56</td>\n",
       "      <td>29</td>\n",
       "      <td>26</td>\n",
       "      <td>31</td>\n",
       "      <td>10</td>\n",
       "      <td>11</td>\n",
       "    </tr>\n",
       "    <tr>\n",
       "      <th>şubat</th>\n",
       "      <td>45</td>\n",
       "      <td>47</td>\n",
       "      <td>40</td>\n",
       "      <td>22</td>\n",
       "      <td>40</td>\n",
       "      <td>59</td>\n",
       "    </tr>\n",
       "    <tr>\n",
       "      <th>mart</th>\n",
       "      <td>48</td>\n",
       "      <td>36</td>\n",
       "      <td>10</td>\n",
       "      <td>14</td>\n",
       "      <td>52</td>\n",
       "      <td>44</td>\n",
       "    </tr>\n",
       "    <tr>\n",
       "      <th>nisan</th>\n",
       "      <td>26</td>\n",
       "      <td>28</td>\n",
       "      <td>14</td>\n",
       "      <td>20</td>\n",
       "      <td>25</td>\n",
       "      <td>36</td>\n",
       "    </tr>\n",
       "    <tr>\n",
       "      <th>mayıs</th>\n",
       "      <td>1</td>\n",
       "      <td>12</td>\n",
       "      <td>56</td>\n",
       "      <td>1</td>\n",
       "      <td>13</td>\n",
       "      <td>49</td>\n",
       "    </tr>\n",
       "  </tbody>\n",
       "</table>\n",
       "</div>"
      ],
      "text/plain": [
       "       yem  süt  elektrik  su  at  avrat\n",
       "ocak    56   29        26  31  10     11\n",
       "şubat   45   47        40  22  40     59\n",
       "mart    48   36        10  14  52     44\n",
       "nisan   26   28        14  20  25     36\n",
       "mayıs    1   12        56   1  13     49"
      ]
     },
     "execution_count": 41,
     "metadata": {},
     "output_type": "execute_result"
    }
   ],
   "source": [
    "matris"
   ]
  },
  {
   "cell_type": "code",
   "execution_count": 42,
   "metadata": {},
   "outputs": [
    {
     "data": {
      "text/plain": [
       "yem         56\n",
       "süt         29\n",
       "elektrik    26\n",
       "su          31\n",
       "at          10\n",
       "avrat       11\n",
       "Name: ocak, dtype: int32"
      ]
     },
     "execution_count": 42,
     "metadata": {},
     "output_type": "execute_result"
    }
   ],
   "source": [
    "matris.loc[\"ocak\"]"
   ]
  },
  {
   "cell_type": "code",
   "execution_count": 43,
   "metadata": {},
   "outputs": [
    {
     "data": {
      "text/plain": [
       "44"
      ]
     },
     "execution_count": 43,
     "metadata": {},
     "output_type": "execute_result"
    }
   ],
   "source": [
    "matris[\"avrat\"][\"mart\"]"
   ]
  },
  {
   "cell_type": "code",
   "execution_count": 44,
   "metadata": {},
   "outputs": [
    {
     "data": {
      "text/html": [
       "<div>\n",
       "<style scoped>\n",
       "    .dataframe tbody tr th:only-of-type {\n",
       "        vertical-align: middle;\n",
       "    }\n",
       "\n",
       "    .dataframe tbody tr th {\n",
       "        vertical-align: top;\n",
       "    }\n",
       "\n",
       "    .dataframe thead th {\n",
       "        text-align: right;\n",
       "    }\n",
       "</style>\n",
       "<table border=\"1\" class=\"dataframe\">\n",
       "  <thead>\n",
       "    <tr style=\"text-align: right;\">\n",
       "      <th></th>\n",
       "      <th>yem</th>\n",
       "      <th>süt</th>\n",
       "      <th>elektrik</th>\n",
       "      <th>su</th>\n",
       "      <th>at</th>\n",
       "      <th>avrat</th>\n",
       "    </tr>\n",
       "  </thead>\n",
       "  <tbody>\n",
       "    <tr>\n",
       "      <th>ocak</th>\n",
       "      <td>56</td>\n",
       "      <td>29</td>\n",
       "      <td>26</td>\n",
       "      <td>31</td>\n",
       "      <td>10</td>\n",
       "      <td>11</td>\n",
       "    </tr>\n",
       "    <tr>\n",
       "      <th>şubat</th>\n",
       "      <td>45</td>\n",
       "      <td>47</td>\n",
       "      <td>40</td>\n",
       "      <td>22</td>\n",
       "      <td>40</td>\n",
       "      <td>59</td>\n",
       "    </tr>\n",
       "    <tr>\n",
       "      <th>mart</th>\n",
       "      <td>48</td>\n",
       "      <td>36</td>\n",
       "      <td>10</td>\n",
       "      <td>14</td>\n",
       "      <td>52</td>\n",
       "      <td>44</td>\n",
       "    </tr>\n",
       "    <tr>\n",
       "      <th>nisan</th>\n",
       "      <td>26</td>\n",
       "      <td>28</td>\n",
       "      <td>14</td>\n",
       "      <td>20</td>\n",
       "      <td>25</td>\n",
       "      <td>36</td>\n",
       "    </tr>\n",
       "    <tr>\n",
       "      <th>mayıs</th>\n",
       "      <td>1</td>\n",
       "      <td>12</td>\n",
       "      <td>56</td>\n",
       "      <td>1</td>\n",
       "      <td>13</td>\n",
       "      <td>49</td>\n",
       "    </tr>\n",
       "  </tbody>\n",
       "</table>\n",
       "</div>"
      ],
      "text/plain": [
       "       yem  süt  elektrik  su  at  avrat\n",
       "ocak    56   29        26  31  10     11\n",
       "şubat   45   47        40  22  40     59\n",
       "mart    48   36        10  14  52     44\n",
       "nisan   26   28        14  20  25     36\n",
       "mayıs    1   12        56   1  13     49"
      ]
     },
     "execution_count": 44,
     "metadata": {},
     "output_type": "execute_result"
    }
   ],
   "source": [
    "matris"
   ]
  },
  {
   "cell_type": "code",
   "execution_count": null,
   "metadata": {},
   "outputs": [],
   "source": []
  }
 ],
 "metadata": {
  "kernelspec": {
   "display_name": "Python 3",
   "language": "python",
   "name": "python3"
  },
  "language_info": {
   "codemirror_mode": {
    "name": "ipython",
    "version": 3
   },
   "file_extension": ".py",
   "mimetype": "text/x-python",
   "name": "python",
   "nbconvert_exporter": "python",
   "pygments_lexer": "ipython3",
   "version": "3.8.3"
  }
 },
 "nbformat": 4,
 "nbformat_minor": 4
}
