{
 "cells": [
  {
   "cell_type": "code",
   "execution_count": 2,
   "metadata": {},
   "outputs": [],
   "source": [
    "import pandas as pd\n",
    "import numpy as np\n",
    "import matplotlib.pyplot as pls"
   ]
  },
  {
   "cell_type": "code",
   "execution_count": 3,
   "metadata": {},
   "outputs": [],
   "source": [
    "sozluk1={\"ısım\":[\"Ahmet\",\"Mehmet\",\"Zeynep\",\"Atıl\"],\n",
    "        \"spor\":[\"Basketbol\",\"Voleybol\",\"Futbol\",\"Tenis\"],\n",
    "        \"kalori\":[100,200,300,400]}\n",
    "sozluk2={\"ısım\":[\"Ali\",\"Veli\",\"Osman\",\"Kamil\"],\n",
    "        \"spor\":[\"Basketbol\",\"Voleybol\",\"Yüzme\",\"Tenis\"],\n",
    "        \"kalori\":[150,220,500,400]}\n",
    "sozluk3={\"ısım\":[\"Hamdi\",\"Timur\",\"Asım\",\"Efe\"],\n",
    "        \"spor\":[\"Basketbol\",\"Espor\",\"Futbol\",\"Koşu\"],\n",
    "        \"kalori\":[180,250,820,310]}"
   ]
  },
  {
   "cell_type": "code",
   "execution_count": 4,
   "metadata": {},
   "outputs": [],
   "source": [
    "dt1=pd.DataFrame(sozluk1,index=[0,1,2,3])\n",
    "dt2=pd.DataFrame(sozluk2,index=[4,5,6,7])\n",
    "dt3=pd.DataFrame(sozluk3,index=[8,9,10,11])\n"
   ]
  },
  {
   "cell_type": "code",
   "execution_count": 5,
   "metadata": {},
   "outputs": [],
   "source": [
    "dt=pd.concat([dt1,dt2,dt3])\n"
   ]
  },
  {
   "cell_type": "code",
   "execution_count": 25,
   "metadata": {},
   "outputs": [],
   "source": [
    "(a,b)=dt.shape"
   ]
  },
  {
   "cell_type": "code",
   "execution_count": 28,
   "metadata": {},
   "outputs": [],
   "source": [
    "a=dt.iloc(1)"
   ]
  },
  {
   "cell_type": "code",
   "execution_count": 29,
   "metadata": {},
   "outputs": [
    {
     "data": {
      "text/plain": [
       "<pandas.core.indexing._iLocIndexer at 0x245ab62c1d0>"
      ]
     },
     "execution_count": 29,
     "metadata": {},
     "output_type": "execute_result"
    }
   ],
   "source": [
    "a"
   ]
  },
  {
   "cell_type": "code",
   "execution_count": null,
   "metadata": {},
   "outputs": [],
   "source": []
  }
 ],
 "metadata": {
  "kernelspec": {
   "display_name": "Python 3",
   "language": "python",
   "name": "python3"
  },
  "language_info": {
   "codemirror_mode": {
    "name": "ipython",
    "version": 3
   },
   "file_extension": ".py",
   "mimetype": "text/x-python",
   "name": "python",
   "nbconvert_exporter": "python",
   "pygments_lexer": "ipython3",
   "version": "3.8.3"
  }
 },
 "nbformat": 4,
 "nbformat_minor": 4
}
