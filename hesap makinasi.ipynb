{
 "cells": [
  {
   "cell_type": "code",
   "execution_count": 4,
   "metadata": {},
   "outputs": [],
   "source": [
    "\n",
    "\n",
    "def hesapla():\n",
    " \n",
    "    islemSayi=[]\n",
    "    islem=input(\"yapacağınız işlemi seçiniz carpma/bolme/toplama : \")\n",
    "    gelenVeri=input(\"işlem yapacağınız sayıları giriniz : \").split(\",\")\n",
    "    for i in gelenVeri:\n",
    "        if type(i)==str:\n",
    "            islemSayi.append(int(i))\n",
    "           \n",
    "        \n",
    "    if islem==\"carpma\":\n",
    "        \n",
    "        if len(islemSayi)==5:\n",
    "            a=carp(islemSayi[0],islemSayi[1],islemSayi[2],islemSayi[3],islemSayi[4])\n",
    "            print(f\"yapmak istediğiniz çarpma sonucu : {a}\")\n",
    "            \n",
    "        elif len(islemSayi)<5: \n",
    "            for i in range(0,(5-len(islemSayi))):\n",
    "                islemSayi.append(1)\n",
    "                i+=1\n",
    "        else:\n",
    "            print(\"işlem sayısı fazla!\")\n",
    "      \n",
    "        \n",
    "    elif islem==\"toplama\" :\n",
    "        \n",
    "        if len(islemSayi)==5:\n",
    "            a=topla(islemSayi[0],islemSayi[1],islemSayi[2],islemSayi[3],islemSayi[4])\n",
    "            print(f\"yapmak istediğiniz toplam sonucu : {a}\")\n",
    "            \n",
    "        elif len(islemSayi)<5: \n",
    "            for i in range(0,(5-len(islemSayi))):\n",
    "                islemSayi.append(0)\n",
    "                i+=1\n",
    "        else:\n",
    "            print(\"işlem sayısı fazla!\")\n",
    "        \n",
    "        \n",
    "    elif islem==\"bolme\":\n",
    "        if len(islemSayi)==5:\n",
    "            a=bol(islemSayi[0],islemSayi[1],islemSayi[2],islemSayi[3],islemSayi[4])\n",
    "            print(f\"yapmak istediğiniz bölme sonucu : {a}\")\n",
    "            \n",
    "        elif len(islemSayi)<5: \n",
    "            for i in range(0,(5-len(islemSayi))):\n",
    "                islemSayi.append(1)\n",
    "                i+=1\n",
    "        else:\n",
    "            print(\"işlem sayısı fazla!\")\n",
    "         \n",
    "       \n",
    "    else:\n",
    "        print(\"yanlış işlem bilgisi girdiniz lütfen tekrar deneyin!\")\n",
    "        \n",
    "\n",
    "    "
   ]
  },
  {
   "cell_type": "code",
   "execution_count": 5,
   "metadata": {},
   "outputs": [],
   "source": [
    "def topla(*args):\n",
    "    a=0\n",
    "    for i in args:\n",
    "        a=a+i\n",
    "    return a        \n",
    "        \n",
    "def carp(*sayi):\n",
    "    a=1\n",
    "    for i in sayi:\n",
    "        a=a*i\n",
    "    return a    \n",
    "\n",
    "def bol(*rakam):\n",
    "    a=1\n",
    "    for i in rakam:\n",
    "        a=i/a\n",
    "    return a           \n",
    "    \n",
    "        "
   ]
  },
  {
   "cell_type": "code",
   "execution_count": 11,
   "metadata": {},
   "outputs": [
    {
     "name": "stdout",
     "output_type": "stream",
     "text": [
      "yapacağınız işlemi seçiniz carpma/bolme/toplama : toplama\n",
      "işlem yapacağınız sayıları giriniz : -5,-19\n",
      "yapmak istediğiniz toplam sonucu : -24\n"
     ]
    }
   ],
   "source": [
    "hesapla()\n"
   ]
  },
  {
   "cell_type": "code",
   "execution_count": null,
   "metadata": {},
   "outputs": [],
   "source": []
  },
  {
   "cell_type": "code",
   "execution_count": null,
   "metadata": {},
   "outputs": [],
   "source": []
  }
 ],
 "metadata": {
  "kernelspec": {
   "display_name": "Python 3 (ipykernel)",
   "language": "python",
   "name": "python3"
  },
  "language_info": {
   "codemirror_mode": {
    "name": "ipython",
    "version": 3
   },
   "file_extension": ".py",
   "mimetype": "text/x-python",
   "name": "python",
   "nbconvert_exporter": "python",
   "pygments_lexer": "ipython3",
   "version": "3.9.7"
  }
 },
 "nbformat": 4,
 "nbformat_minor": 4
}
